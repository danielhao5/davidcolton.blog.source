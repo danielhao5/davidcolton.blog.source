{
 "cells": [
  {
   "cell_type": "markdown",
   "metadata": {},
   "source": [
    "- Author: David Colton\n",
    "- Date: 2020-03-09 20:40\n",
    "- Modified: 2020-03-10 20:05\n",
    "- Category: python\n",
    "- Tags: python, jupyter\n",
    "- Title: Sample Jupyter Notebook to test Plugin\n",
    "- Slug: sample_ipynb\n",
    "- Summary: A sample Jupyter Notebook to add to my Blog"
   ]
  },
  {
   "cell_type": "markdown",
   "metadata": {},
   "source": [
    "## A small Python script\n",
    "\n",
    "A very small python script that imports the `numpy` library, creates a simple array, a vector, and then outputs this array."
   ]
  },
  {
   "cell_type": "code",
   "execution_count": 1,
   "metadata": {},
   "outputs": [
    {
     "data": {
      "text/plain": [
       "array([5, 2])"
      ]
     },
     "execution_count": 1,
     "metadata": {},
     "output_type": "execute_result"
    }
   ],
   "source": [
    "import numpy as np\n",
    "\n",
    "simple_vector = np.array([5, 2])\n",
    "simple_vector"
   ]
  },
  {
   "cell_type": "markdown",
   "metadata": {},
   "source": [
    "## A simple vector in a markdown cell\n",
    "\n",
    "This is a markdown cell that contains a heading, above, and a maths formula representing a simple vector, below.\n",
    "\n",
    "$$\\vec{vector} = \\begin{bmatrix}5\\\\\n",
    "2\n",
    "\\end{bmatrix}$$"
   ]
  }
 ],
 "metadata": {
  "kernelspec": {
   "display_name": "Python 3",
   "language": "python",
   "name": "python3"
  },
  "language_info": {
   "codemirror_mode": {
    "name": "ipython",
    "version": 3
   },
   "file_extension": ".py",
   "mimetype": "text/x-python",
   "name": "python",
   "nbconvert_exporter": "python",
   "pygments_lexer": "ipython3",
   "version": "3.8.1"
  }
 },
 "nbformat": 4,
 "nbformat_minor": 4
}
